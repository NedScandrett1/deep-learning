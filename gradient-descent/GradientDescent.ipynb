{
 "cells": [
  {
   "cell_type": "markdown",
   "metadata": {},
   "source": [
    "# Implementing the Gradient Descent Algorithm\n",
    "\n",
    "In this lab, we'll implement the basic functions of the Gradient Descent algorithm to find the boundary in a small dataset. First, we'll start with some functions that will help us plot and visualize the data."
   ]
  },
  {
   "cell_type": "code",
   "execution_count": 137,
   "metadata": {},
   "outputs": [],
   "source": [
    "import matplotlib.pyplot as plt\n",
    "import numpy as np\n",
    "import pandas as pd\n",
    "\n",
    "#Some helper functions for plotting and drawing lines\n",
    "\n",
    "def plot_points(X, y):\n",
    "    admitted = X[np.argwhere(y==1)]\n",
    "    rejected = X[np.argwhere(y==0)]\n",
    "    plt.scatter([s[0][0] for s in rejected], [s[0][1] for s in rejected], s = 25, color = 'blue', edgecolor = 'k')\n",
    "    plt.scatter([s[0][0] for s in admitted], [s[0][1] for s in admitted], s = 25, color = 'red', edgecolor = 'k')\n",
    "\n",
    "def display(m, b, color='g--'):\n",
    "    plt.xlim(-0.05,1.05)\n",
    "    plt.ylim(-0.05,1.05)\n",
    "    x = np.arange(-10, 10, 0.1)\n",
    "    plt.plot(x, m*x+b, color)"
   ]
  },
  {
   "cell_type": "markdown",
   "metadata": {},
   "source": [
    "## Reading and plotting the data"
   ]
  },
  {
   "cell_type": "code",
   "execution_count": 138,
   "metadata": {},
   "outputs": [
    {
     "data": {
      "image/png": "[encoded data removed]",
      "text/plain": [
       "<Figure size 432x288 with 1 Axes>"
      ]
     },
     "metadata": {
      "needs_background": "light"
     },
     "output_type": "display_data"
    }
   ],
   "source": [
    "data = pd.read_csv('data.csv', header=None)\n",
    "X = np.array(data[[0,1]])\n",
    "y = np.array(data[2])\n",
    "plot_points(X,y)\n",
    "plt.show()"
   ]
  },
  {
   "cell_type": "markdown",
   "metadata": {},
   "source": [
    "## TODO: Implementing the basic functions\n",
    "Here is your turn to shine. Implement the following formulas, as explained in the text.\n",
    "- Sigmoid activation function\n",
    "\n",
    "$$\\sigma(x) = \\frac{1}{1+e^{-x}}$$\n",
    "\n",
    "- Output (prediction) formula\n",
    "\n",
    "$$\\hat{y} = \\sigma(w_1 x_1 + w_2 x_2 + b)$$\n",
    "\n",
    "- Error function\n",
    "\n",
    "$$Error(y, \\hat{y}) = - y \\log(\\hat{y}) - (1-y) \\log(1-\\hat{y})$$\n",
    "\n",
    "- The function that updates the weights\n",
    "\n",
    "$$ w_i \\longrightarrow w_i + \\alpha (y - \\hat{y}) x_i$$\n",
    "\n",
    "$$ b \\longrightarrow b + \\alpha (y - \\hat{y})$$"
   ]
  },
  {
   "cell_type": "code",
   "execution_count": 38,
   "metadata": {},
   "outputs": [],
   "source": [
    "def my_func2(x):\n",
    "    a = 1\n",
    "    b = 2\n",
    "    return a,b\n",
    "    pass"
   ]
  },
  {
   "cell_type": "code",
   "execution_count": 39,
   "metadata": {},
   "outputs": [
    {
     "data": {
      "text/plain": [
       "(1, 2)"
      ]
     },
     "execution_count": 39,
     "metadata": {},
     "output_type": "execute_result"
    }
   ],
   "source": [
    "my_func2(3)"
   ]
  },
  {
   "cell_type": "code",
   "execution_count": null,
   "metadata": {},
   "outputs": [],
   "source": [
    "a"
   ]
  },
  {
   "cell_type": "code",
   "execution_count": 37,
   "metadata": {},
   "outputs": [],
   "source": [
    "def my_func(x):\n",
    "    return x**2\n",
    "    pass"
   ]
  },
  {
   "cell_type": "code",
   "execution_count": 12,
   "metadata": {
    "scrolled": true
   },
   "outputs": [
    {
     "name": "stdout",
     "output_type": "stream",
     "text": [
      "9\n"
     ]
    }
   ],
   "source": [
    "print(my_func(3))"
   ]
  },
  {
   "cell_type": "code",
   "execution_count": 13,
   "metadata": {
    "scrolled": true
   },
   "outputs": [
    {
     "data": {
      "text/plain": [
       "2.718281828459045"
      ]
     },
     "execution_count": 13,
     "metadata": {},
     "output_type": "execute_result"
    }
   ],
   "source": [
    "np.exp(1)"
   ]
  },
  {
   "cell_type": "code",
   "execution_count": 19,
   "metadata": {
    "scrolled": true
   },
   "outputs": [
    {
     "data": {
      "text/plain": [
       "array([0.78051  , 0.28774  , 0.40714  , 0.2923   , 0.50922  , 0.27785  ,\n",
       "       0.27527  , 0.43999  , 0.33557  , 0.23448  , 0.0084492, 0.12419  ,\n",
       "       0.25644  , 0.4591   , 0.44547  , 0.42218  , 0.49563  , 0.30848  ,\n",
       "       0.39707  , 0.32945  , 0.40739  , 0.3106   , 0.49638  , 0.10073  ,\n",
       "       0.69907  , 0.29767  , 0.15099  , 0.16427  , 0.33259  , 0.53741  ,\n",
       "       0.19503  , 0.40278  , 0.21296  , 0.48447  , 0.25476  , 0.21726  ,\n",
       "       0.67078  , 0.3815   , 0.53838  , 0.4849   , 0.37095  , 0.54527  ,\n",
       "       0.32149  , 0.42216  , 0.10194  , 0.15254  , 0.45558  , 0.28488  ,\n",
       "       0.27633  , 0.39748  , 0.5533   , 0.44274  , 0.85176  , 0.60436  ,\n",
       "       0.68243  , 1.       , 0.72989  , 0.67377  , 0.78761  , 0.71442  ,\n",
       "       0.49379  , 0.78974  , 0.67905  , 0.6642   , 0.79396  , 0.70758  ,\n",
       "       0.59421  , 0.49364  , 0.77707  , 0.79785  , 0.70876  , 0.69176  ,\n",
       "       0.66408  , 0.65973  , 0.64574  , 0.89639  , 0.85476  , 0.62091  ,\n",
       "       0.79057  , 0.58935  , 0.56846  , 0.65912  , 0.70938  , 0.59154  ,\n",
       "       0.45829  , 0.79982  , 0.60974  , 0.68127  , 0.76694  , 0.69048  ,\n",
       "       0.68122  , 0.73229  , 0.76145  , 0.58985  , 0.73145  , 0.77029  ,\n",
       "       0.73156  , 0.44556  , 0.85275  , 0.51912  ])"
      ]
     },
     "execution_count": 19,
     "metadata": {},
     "output_type": "execute_result"
    }
   ],
   "source": [
    "X[:,0]"
   ]
  },
  {
   "cell_type": "code",
   "execution_count": 18,
   "metadata": {},
   "outputs": [
    {
     "data": {
      "text/plain": [
       "array([0.28774, 0.29139])"
      ]
     },
     "execution_count": 18,
     "metadata": {},
     "output_type": "execute_result"
    }
   ],
   "source": [
    "X[1,:]"
   ]
  },
  {
   "cell_type": "code",
   "execution_count": 24,
   "metadata": {
    "scrolled": true
   },
   "outputs": [
    {
     "data": {
      "text/html": [
       "<div>\n",
       "<style scoped>\n",
       "    .dataframe tbody tr th:only-of-type {\n",
       "        vertical-align: middle;\n",
       "    }\n",
       "\n",
       "    .dataframe tbody tr th {\n",
       "        vertical-align: top;\n",
       "    }\n",
       "\n",
       "    .dataframe thead th {\n",
       "        text-align: right;\n",
       "    }\n",
       "</style>\n",
       "<table border=\"1\" class=\"dataframe\">\n",
       "  <thead>\n",
       "    <tr style=\"text-align: right;\">\n",
       "      <th></th>\n",
       "      <th>0</th>\n",
       "      <th>1</th>\n",
       "    </tr>\n",
       "  </thead>\n",
       "  <tbody>\n",
       "    <tr>\n",
       "      <th>0</th>\n",
       "      <td>0.78051</td>\n",
       "      <td>-0.063669</td>\n",
       "    </tr>\n",
       "    <tr>\n",
       "      <th>1</th>\n",
       "      <td>0.28774</td>\n",
       "      <td>0.291390</td>\n",
       "    </tr>\n",
       "    <tr>\n",
       "      <th>2</th>\n",
       "      <td>0.40714</td>\n",
       "      <td>0.178780</td>\n",
       "    </tr>\n",
       "    <tr>\n",
       "      <th>3</th>\n",
       "      <td>0.29230</td>\n",
       "      <td>0.421700</td>\n",
       "    </tr>\n",
       "  </tbody>\n",
       "</table>\n",
       "</div>"
      ],
      "text/plain": [
       "         0         1\n",
       "0  0.78051 -0.063669\n",
       "1  0.28774  0.291390\n",
       "2  0.40714  0.178780\n",
       "3  0.29230  0.421700"
      ]
     },
     "execution_count": 24,
     "metadata": {},
     "output_type": "execute_result"
    }
   ],
   "source": [
    "pd.DataFrame(X).head(4)"
   ]
  },
  {
   "cell_type": "code",
   "execution_count": 26,
   "metadata": {},
   "outputs": [],
   "source": [
    "# help(np.repeat)"
   ]
  },
  {
   "cell_type": "code",
   "execution_count": 31,
   "metadata": {
    "scrolled": true
   },
   "outputs": [
    {
     "data": {
      "text/plain": [
       "array([0.1, 0.1, 0.1, 0.1, 0.1, 0.1, 0.1, 0.1, 0.1, 0.1, 0.1, 0.1, 0.1,\n",
       "       0.1, 0.1, 0.1, 0.1, 0.1, 0.1, 0.1, 0.1, 0.1, 0.1, 0.1, 0.1, 0.1,\n",
       "       0.1, 0.1, 0.1, 0.1, 0.1, 0.1, 0.1, 0.1, 0.1, 0.1, 0.1, 0.1, 0.1,\n",
       "       0.1, 0.1, 0.1, 0.1, 0.1, 0.1, 0.1, 0.1, 0.1, 0.1, 0.1, 0.1, 0.1,\n",
       "       0.1, 0.1, 0.1, 0.1, 0.1, 0.1, 0.1, 0.1, 0.1, 0.1, 0.1, 0.1, 0.1,\n",
       "       0.1, 0.1, 0.1, 0.1, 0.1, 0.1, 0.1, 0.1, 0.1, 0.1, 0.1, 0.1, 0.1,\n",
       "       0.1, 0.1, 0.1, 0.1, 0.1, 0.1, 0.1, 0.1, 0.1, 0.1, 0.1, 0.1, 0.1,\n",
       "       0.1, 0.1, 0.1, 0.1, 0.1, 0.1, 0.1, 0.1, 0.1])"
      ]
     },
     "execution_count": 31,
     "metadata": {},
     "output_type": "execute_result"
    }
   ],
   "source": [
    "Ws = np.repeat(0.1,100,axis=0)\n",
    "Ws"
   ]
  },
  {
   "cell_type": "code",
   "execution_count": 33,
   "metadata": {},
   "outputs": [],
   "source": [
    "Ws = 0.1"
   ]
  },
  {
   "cell_type": "code",
   "execution_count": 34,
   "metadata": {},
   "outputs": [
    {
     "data": {
      "text/plain": [
       "array([0.078051  , 0.028774  , 0.040714  , 0.02923   , 0.050922  ,\n",
       "       0.027785  , 0.027527  , 0.043999  , 0.033557  , 0.023448  ,\n",
       "       0.00084492, 0.012419  , 0.025644  , 0.04591   , 0.044547  ,\n",
       "       0.042218  , 0.049563  , 0.030848  , 0.039707  , 0.032945  ,\n",
       "       0.040739  , 0.03106   , 0.049638  , 0.010073  , 0.069907  ,\n",
       "       0.029767  , 0.015099  , 0.016427  , 0.033259  , 0.053741  ,\n",
       "       0.019503  , 0.040278  , 0.021296  , 0.048447  , 0.025476  ,\n",
       "       0.021726  , 0.067078  , 0.03815   , 0.053838  , 0.04849   ,\n",
       "       0.037095  , 0.054527  , 0.032149  , 0.042216  , 0.010194  ,\n",
       "       0.015254  , 0.045558  , 0.028488  , 0.027633  , 0.039748  ,\n",
       "       0.05533   , 0.044274  , 0.085176  , 0.060436  , 0.068243  ,\n",
       "       0.1       , 0.072989  , 0.067377  , 0.078761  , 0.071442  ,\n",
       "       0.049379  , 0.078974  , 0.067905  , 0.06642   , 0.079396  ,\n",
       "       0.070758  , 0.059421  , 0.049364  , 0.077707  , 0.079785  ,\n",
       "       0.070876  , 0.069176  , 0.066408  , 0.065973  , 0.064574  ,\n",
       "       0.089639  , 0.085476  , 0.062091  , 0.079057  , 0.058935  ,\n",
       "       0.056846  , 0.065912  , 0.070938  , 0.059154  , 0.045829  ,\n",
       "       0.079982  , 0.060974  , 0.068127  , 0.076694  , 0.069048  ,\n",
       "       0.068122  , 0.073229  , 0.076145  , 0.058985  , 0.073145  ,\n",
       "       0.077029  , 0.073156  , 0.044556  , 0.085275  , 0.051912  ])"
      ]
     },
     "execution_count": 34,
     "metadata": {},
     "output_type": "execute_result"
    }
   ],
   "source": [
    "X[:,0] * Ws"
   ]
  },
  {
   "cell_type": "code",
   "execution_count": 48,
   "metadata": {},
   "outputs": [
    {
     "data": {
      "text/plain": [
       "0.6748052725823135"
      ]
     },
     "execution_count": 48,
     "metadata": {},
     "output_type": "execute_result"
    }
   ],
   "source": [
    "sigmoid(0.73)"
   ]
  },
  {
   "cell_type": "code",
   "execution_count": 58,
   "metadata": {},
   "outputs": [
    {
     "data": {
      "text/plain": [
       "2"
      ]
     },
     "execution_count": 58,
     "metadata": {},
     "output_type": "execute_result"
    }
   ],
   "source": [
    "X.shape[1]"
   ]
  },
  {
   "cell_type": "code",
   "execution_count": 64,
   "metadata": {},
   "outputs": [
    {
     "name": "stdout",
     "output_type": "stream",
     "text": [
      "[ 1.14858562 -0.43257711]\n"
     ]
    }
   ],
   "source": [
    "# n_records, n_features = features.shape\n",
    "#     last_loss = None\n",
    "np.random.seed(1)\n",
    "Ws = np.random.normal(scale=1 / X.shape[1]**.5, size=X.shape[1])\n",
    "Bs = 0\n",
    "print(Ws)"
   ]
  },
  {
   "cell_type": "code",
   "execution_count": 129,
   "metadata": {
    "scrolled": false
   },
   "outputs": [
    {
     "data": {
      "text/plain": [
       "array([ 0.92402432,  0.20444538,  0.39029901,  0.15331381,  0.43237338,\n",
       "        0.27240754,  0.17245607,  0.37020747,  0.19949193,  0.16123664,\n",
       "       -0.04937675, -0.00268143,  0.11016163,  0.35244204,  0.31649462,\n",
       "        0.39788402,  0.47650733,  0.2491735 ,  0.26384028,  0.20875777,\n",
       "        0.29371917,  0.13742545,  0.37381414, -0.02295691,  0.64156021,\n",
       "        0.04061818, -0.0746191 ,  0.06859908,  0.35779935,  0.49338429,\n",
       "        0.06447854,  0.4474231 ,  0.00595433,  0.30992526,  0.1429593 ,\n",
       "        0.1256473 ,  0.56913553,  0.23824828,  0.47660271,  0.44417199,\n",
       "        0.25818899,  0.34982493,  0.31731926,  0.21813391,  0.0909557 ,\n",
       "        0.08142253,  0.33393796,  0.10165472,  0.22540547,  0.31853906,\n",
       "        0.20293532,  0.25241752,  0.6922993 ,  0.3195258 ,  0.57489022,\n",
       "        0.81630152,  0.4876509 ,  0.43658053,  0.65297714,  0.48887241,\n",
       "        0.33259083,  0.58596904,  0.51641677,  0.44918998,  0.66627483,\n",
       "        0.48386244,  0.41492184,  0.32377565,  0.7410213 ,  0.5836564 ,\n",
       "        0.39549263,  0.53125753,  0.36445737,  0.46937454,  0.49578922,\n",
       "        0.72309978,  0.70851906,  0.36527248,  0.66532697,  0.36727159,\n",
       "        0.33255838,  0.44755549,  0.49449925,  0.40722654,  0.32562627,\n",
       "        0.59489076,  0.46347235,  0.40621973,  0.60086314,  0.43378551,\n",
       "        0.36482523,  0.5631886 ,  0.6144473 ,  0.3013458 ,  0.51779379,\n",
       "        0.58133443,  0.5297468 ,  0.26090802,  0.60749631,  0.32650301])"
      ]
     },
     "execution_count": 129,
     "metadata": {},
     "output_type": "execute_result"
    }
   ],
   "source": [
    "t1 = X[:,0] * Ws[0] + X[:,1] * Ws[1] + Bs\n",
    "t1"
   ]
  },
  {
   "cell_type": "code",
   "execution_count": 130,
   "metadata": {},
   "outputs": [
    {
     "data": {
      "text/plain": [
       "array([ 0.92402432,  0.20444538,  0.39029901,  0.15331381,  0.43237338,\n",
       "        0.27240754,  0.17245607,  0.37020747,  0.19949193,  0.16123664,\n",
       "       -0.04937675, -0.00268143,  0.11016163,  0.35244204,  0.31649462,\n",
       "        0.39788402,  0.47650733,  0.2491735 ,  0.26384028,  0.20875777,\n",
       "        0.29371917,  0.13742545,  0.37381414, -0.02295691,  0.64156021,\n",
       "        0.04061818, -0.0746191 ,  0.06859908,  0.35779935,  0.49338429,\n",
       "        0.06447854,  0.4474231 ,  0.00595433,  0.30992526,  0.1429593 ,\n",
       "        0.1256473 ,  0.56913553,  0.23824828,  0.47660271,  0.44417199,\n",
       "        0.25818899,  0.34982493,  0.31731926,  0.21813391,  0.0909557 ,\n",
       "        0.08142253,  0.33393796,  0.10165472,  0.22540547,  0.31853906,\n",
       "        0.20293532,  0.25241752,  0.6922993 ,  0.3195258 ,  0.57489022,\n",
       "        0.81630152,  0.4876509 ,  0.43658053,  0.65297714,  0.48887241,\n",
       "        0.33259083,  0.58596904,  0.51641677,  0.44918998,  0.66627483,\n",
       "        0.48386244,  0.41492184,  0.32377565,  0.7410213 ,  0.5836564 ,\n",
       "        0.39549263,  0.53125753,  0.36445737,  0.46937454,  0.49578922,\n",
       "        0.72309978,  0.70851906,  0.36527248,  0.66532697,  0.36727159,\n",
       "        0.33255838,  0.44755549,  0.49449925,  0.40722654,  0.32562627,\n",
       "        0.59489076,  0.46347235,  0.40621973,  0.60086314,  0.43378551,\n",
       "        0.36482523,  0.5631886 ,  0.6144473 ,  0.3013458 ,  0.51779379,\n",
       "        0.58133443,  0.5297468 ,  0.26090802,  0.60749631,  0.32650301])"
      ]
     },
     "execution_count": 130,
     "metadata": {},
     "output_type": "execute_result"
    }
   ],
   "source": [
    "t2 = np.dot(X,Ws) + Bs\n",
    "t2"
   ]
  },
  {
   "cell_type": "code",
   "execution_count": 75,
   "metadata": {},
   "outputs": [
    {
     "data": {
      "text/plain": [
       "array([0.71586138, 0.55093406, 0.59635468, 0.53825355, 0.60644027,\n",
       "       0.56768386, 0.54300748, 0.59150911, 0.54970824, 0.54022206,\n",
       "       0.48765832, 0.49932964, 0.52751259, 0.58720964, 0.57846973,\n",
       "       0.59817917, 0.61692279, 0.56197306, 0.56558008, 0.55200073,\n",
       "       0.5729064 , 0.53430239, 0.59238029, 0.49426102, 0.65510606,\n",
       "       0.51015315, 0.48135388, 0.51714305, 0.58850761, 0.62090336,\n",
       "       0.51611405, 0.61002638, 0.50148858, 0.57686702, 0.53567908,\n",
       "       0.53137057, 0.63856368, 0.55928192, 0.61694533, 0.60925268,\n",
       "       0.56419105, 0.58657512, 0.5786708 , 0.55431826, 0.52272326,\n",
       "       0.52034439, 0.58271723, 0.52539182, 0.55611398, 0.57896817,\n",
       "       0.55056043, 0.56277145, 0.66647822, 0.57920868, 0.6398908 ,\n",
       "       0.69345069, 0.61955289, 0.60744394, 0.65768104, 0.61984077,\n",
       "       0.58238963, 0.64243972, 0.62630951, 0.61044663, 0.66066853,\n",
       "       0.61865952, 0.60226745, 0.58024413, 0.67721915, 0.64190831,\n",
       "       0.59760424, 0.62977636, 0.59011901, 0.61523571, 0.62146927,\n",
       "       0.67328925, 0.67007384, 0.59031615, 0.660456  , 0.59079953,\n",
       "       0.58238174, 0.61005787, 0.62116577, 0.60042267, 0.5806948 ,\n",
       "       0.64448653, 0.61383759, 0.6001811 , 0.64585375, 0.60677725,\n",
       "       0.59020798, 0.63719   , 0.64895462, 0.57477148, 0.62663174,\n",
       "       0.6413744 , 0.62942405, 0.56485949, 0.64736947, 0.58090826])"
      ]
     },
     "execution_count": 75,
     "metadata": {},
     "output_type": "execute_result"
    }
   ],
   "source": [
    "sigmoid(t1)"
   ]
  },
  {
   "cell_type": "code",
   "execution_count": 145,
   "metadata": {},
   "outputs": [],
   "source": [
    "# Implement the following functions\n",
    "\n",
    "# Activation (sigmoid) function\n",
    "def sigmoid(x):\n",
    "    answer = 1 / (1 + np.exp(-x))\n",
    "    return answer\n",
    "    pass\n",
    "\n",
    "# Output (prediction) formula\n",
    "def output_formula(features, weights, bias):\n",
    "#   y_hat =𝜎(𝑤1𝑥1+𝑤2𝑥2+𝑏)\n",
    "#     arg = features[:,0] * weights[0] + features[:,1] * weights[1] + bias\n",
    "    arg = np.dot(features,weights) + bias\n",
    "    print('output_formulas input is {}'.format(arg.shape))\n",
    "    answer = sigmoid(arg)\n",
    "    return answer\n",
    "    pass\n",
    "\n",
    "# Error (log-loss) formula\n",
    "def error_formula(y, output):\n",
    "#   𝐸𝑟𝑟𝑜𝑟(𝑦,y_hat )=−𝑦log(y_hat )−(1−𝑦)log(1−y_hat )\n",
    "    answer = - sum( y * np.log(output) + (1-y) * np.log(1 - output) )\n",
    "    return answer\n",
    "    pass\n",
    "\n",
    "# Gradient descent step\n",
    "def update_weights(x, y, weights, bias, learnrate):\n",
    "#   𝑤𝑖⟶𝑤𝑖+𝛼(𝑦−y_hat )𝑥𝑖\n",
    "#   𝑏⟶𝑏+𝛼(𝑦−y_hat )\n",
    "    output_formula_temp = output_formula(x, weights, bias)\n",
    "    weights = weights + learnrate * (y - output_formula_temp)*x\n",
    "    bias    = bias    + learnrate * (y - output_formula_temp)*1\n",
    "    \n",
    "    return weights, bias\n",
    "    pass"
   ]
  },
  {
   "cell_type": "code",
   "execution_count": 132,
   "metadata": {},
   "outputs": [
    {
     "data": {
      "text/plain": [
       "0"
      ]
     },
     "execution_count": 132,
     "metadata": {},
     "output_type": "execute_result"
    }
   ],
   "source": [
    "y"
   ]
  },
  {
   "cell_type": "code",
   "execution_count": 133,
   "metadata": {
    "scrolled": false
   },
   "outputs": [
    {
     "name": "stdout",
     "output_type": "stream",
     "text": [
      "output_formulas input is (100,)\n"
     ]
    },
    {
     "data": {
      "text/plain": [
       "array([0.71586138, 0.55093406, 0.59635468, 0.53825355, 0.60644027,\n",
       "       0.56768386, 0.54300748, 0.59150911, 0.54970824, 0.54022206,\n",
       "       0.48765832, 0.49932964, 0.52751259, 0.58720964, 0.57846973,\n",
       "       0.59817917, 0.61692279, 0.56197306, 0.56558008, 0.55200073,\n",
       "       0.5729064 , 0.53430239, 0.59238029, 0.49426102, 0.65510606,\n",
       "       0.51015315, 0.48135388, 0.51714305, 0.58850761, 0.62090336,\n",
       "       0.51611405, 0.61002638, 0.50148858, 0.57686702, 0.53567908,\n",
       "       0.53137057, 0.63856368, 0.55928192, 0.61694533, 0.60925268,\n",
       "       0.56419105, 0.58657512, 0.5786708 , 0.55431826, 0.52272326,\n",
       "       0.52034439, 0.58271723, 0.52539182, 0.55611398, 0.57896817,\n",
       "       0.55056043, 0.56277145, 0.66647822, 0.57920868, 0.6398908 ,\n",
       "       0.69345069, 0.61955289, 0.60744394, 0.65768104, 0.61984077,\n",
       "       0.58238963, 0.64243972, 0.62630951, 0.61044663, 0.66066853,\n",
       "       0.61865952, 0.60226745, 0.58024413, 0.67721915, 0.64190831,\n",
       "       0.59760424, 0.62977636, 0.59011901, 0.61523571, 0.62146927,\n",
       "       0.67328925, 0.67007384, 0.59031615, 0.660456  , 0.59079953,\n",
       "       0.58238174, 0.61005787, 0.62116577, 0.60042267, 0.5806948 ,\n",
       "       0.64448653, 0.61383759, 0.6001811 , 0.64585375, 0.60677725,\n",
       "       0.59020798, 0.63719   , 0.64895462, 0.57477148, 0.62663174,\n",
       "       0.6413744 , 0.62942405, 0.56485949, 0.64736947, 0.58090826])"
      ]
     },
     "execution_count": 133,
     "metadata": {},
     "output_type": "execute_result"
    }
   ],
   "source": [
    "x2 = output_formula(X, Ws, Bs)\n",
    "x2"
   ]
  },
  {
   "cell_type": "code",
   "execution_count": 134,
   "metadata": {},
   "outputs": [
    {
     "ename": "TypeError",
     "evalue": "zip argument #2 must support iteration",
     "output_type": "error",
     "traceback": [
      "\u001b[0;31m---------------------------------------------------------------------------\u001b[0m",
      "\u001b[0;31mTypeError\u001b[0m                                 Traceback (most recent call last)",
      "\u001b[0;32m<ipython-input-134-45c17efb181a>\u001b[0m in \u001b[0;36m<module>\u001b[0;34m\u001b[0m\n\u001b[0;32m----> 1\u001b[0;31m \u001b[0;32mfor\u001b[0m \u001b[0mx\u001b[0m\u001b[0;34m,\u001b[0m \u001b[0my\u001b[0m \u001b[0;32min\u001b[0m \u001b[0mzip\u001b[0m\u001b[0;34m(\u001b[0m\u001b[0mX\u001b[0m\u001b[0;34m,\u001b[0m \u001b[0my\u001b[0m\u001b[0;34m)\u001b[0m\u001b[0;34m:\u001b[0m\u001b[0;34m\u001b[0m\u001b[0;34m\u001b[0m\u001b[0m\n\u001b[0m\u001b[1;32m      2\u001b[0m \u001b[0;34m\u001b[0m\u001b[0m\n\u001b[1;32m      3\u001b[0m \u001b[0;31m#     print('e = {}'.format(e))\u001b[0m\u001b[0;34m\u001b[0m\u001b[0;34m\u001b[0m\u001b[0;34m\u001b[0m\u001b[0m\n\u001b[1;32m      4\u001b[0m \u001b[0;31m#     print('weights = {}'.format(weights))\u001b[0m\u001b[0;34m\u001b[0m\u001b[0;34m\u001b[0m\u001b[0;34m\u001b[0m\u001b[0m\n\u001b[1;32m      5\u001b[0m \u001b[0;31m#     print('x = {}'.format(x))\u001b[0m\u001b[0;34m\u001b[0m\u001b[0;34m\u001b[0m\u001b[0;34m\u001b[0m\u001b[0m\n",
      "\u001b[0;31mTypeError\u001b[0m: zip argument #2 must support iteration"
     ]
    }
   ],
   "source": [
    "for x, y in zip(X, y):\n",
    "\n",
    "#     print('e = {}'.format(e))\n",
    "#     print('weights = {}'.format(weights))\n",
    "#     print('x = {}'.format(x))\n",
    "#     print('x = {}'.format(x))\n",
    "#     print('bias = {}'.format(bias))\n",
    "    print('x = {}'.format(x))\n",
    "    print('y = {}'.format(y))\n",
    "\n"
   ]
  },
  {
   "cell_type": "markdown",
   "metadata": {},
   "source": [
    "## Training function\n",
    "This function will help us iterate the gradient descent algorithm through all the data, for a number of epochs. It will also plot the data, and some of the boundary lines obtained as we run the algorithm."
   ]
  },
  {
   "cell_type": "code",
   "execution_count": 146,
   "metadata": {},
   "outputs": [],
   "source": [
    "np.random.seed(44)\n",
    "\n",
    "epochs = 100\n",
    "learnrate = 0.01\n",
    "\n",
    "def train(features, targets, epochs, learnrate, graph_lines=False):\n",
    "    \n",
    "    errors = []\n",
    "    n_records, n_features = features.shape\n",
    "    last_loss = None\n",
    "    weights = np.random.normal(scale=1 / n_features**.5, size=n_features)\n",
    "    bias = 0\n",
    "    \n",
    "    print('weights shape is = {}'.format(weights.shape))\n",
    "    print('weights are = {}'.format(weights))\n",
    "    \n",
    "    for e in range(epochs):\n",
    "        del_w = np.zeros(weights.shape)\n",
    "        for x, y in zip(features, targets):\n",
    "            \n",
    "            print('e = {}'.format(e))\n",
    "            print('weights = {}'.format(weights))\n",
    "            print('x = {}'.format(x))\n",
    "            print('bias = {}'.format(bias))\n",
    "            print('features[:,0] = {}'.format(features[:,0]))\n",
    "            print('features[:,1] = {}'.format(features[:,1]))\n",
    "            print('y = {}'.format(y))\n",
    "            print('targets = {}'.format(targets))\n",
    "            \n",
    "            \n",
    "            output = output_formula(x, weights, bias)\n",
    "            error = error_formula(y, output)\n",
    "            weights, bias = update_weights(x, y, weights, bias, learnrate)\n",
    "        \n",
    "        # Printing out the log-loss error on the training set\n",
    "        out = output_formula(features, weights, bias)\n",
    "        loss = np.mean(error_formula(targets, out))\n",
    "        errors.append(loss)\n",
    "        if e % (epochs / 10) == 0:\n",
    "            print(\"\\n========== Epoch\", e,\"==========\")\n",
    "            if last_loss and last_loss < loss:\n",
    "                print(\"Train loss: \", loss, \"  WARNING - Loss Increasing\")\n",
    "            else:\n",
    "                print(\"Train loss: \", loss)\n",
    "            last_loss = loss\n",
    "            predictions = out > 0.5\n",
    "            accuracy = np.mean(predictions == targets)\n",
    "            print(\"Accuracy: \", accuracy)\n",
    "        if graph_lines and e % (epochs / 100) == 0:\n",
    "            display(-weights[0]/weights[1], -bias/weights[1])\n",
    "            \n",
    "\n",
    "    # Plotting the solution boundary\n",
    "    plt.title(\"Solution boundary\")\n",
    "    display(-weights[0]/weights[1], -bias/weights[1], 'black')\n",
    "\n",
    "    # Plotting the data\n",
    "    plot_points(features, targets)\n",
    "    plt.show()\n",
    "\n",
    "    # Plotting the error\n",
    "    plt.title(\"Error Plot\")\n",
    "    plt.xlabel('Number of epochs')\n",
    "    plt.ylabel('Error')\n",
    "    plt.plot(errors)\n",
    "    plt.show()"
   ]
  },
  {
   "cell_type": "markdown",
   "metadata": {},
   "source": [
    "## Time to train the algorithm!\n",
    "When we run the function, we'll obtain the following:\n",
    "- 10 updates with the current training loss and accuracy\n",
    "- A plot of the data and some of the boundary lines obtained. The final one is in black. Notice how the lines get closer and closer to the best fit, as we go through more epochs.\n",
    "- A plot of the error function. Notice how it decreases as we go through more epochs."
   ]
  },
  {
   "cell_type": "code",
   "execution_count": 147,
   "metadata": {},
   "outputs": [
    {
     "name": "stdout",
     "output_type": "stream",
     "text": [
      "weights shape is = (2,)\n",
      "weights are = [-0.53076476  0.93080519]\n",
      "e = 0\n",
      "weights = [-0.53076476  0.93080519]\n",
      "x = [ 0.78051  -0.063669]\n",
      "bias = 0\n",
      "features[:,0] = [0.78051   0.28774   0.40714   0.2923    0.50922   0.27785   0.27527\n",
      " 0.43999   0.33557   0.23448   0.0084492 0.12419   0.25644   0.4591\n",
      " 0.44547   0.42218   0.49563   0.30848   0.39707   0.32945   0.40739\n",
      " 0.3106    0.49638   0.10073   0.69907   0.29767   0.15099   0.16427\n",
      " 0.33259   0.53741   0.19503   0.40278   0.21296   0.48447   0.25476\n",
      " 0.21726   0.67078   0.3815    0.53838   0.4849    0.37095   0.54527\n",
      " 0.32149   0.42216   0.10194   0.15254   0.45558   0.28488   0.27633\n",
      " 0.39748   0.5533    0.44274   0.85176   0.60436   0.68243   1.\n",
      " 0.72989   0.67377   0.78761   0.71442   0.49379   0.78974   0.67905\n",
      " 0.6642    0.79396   0.70758   0.59421   0.49364   0.77707   0.79785\n",
      " 0.70876   0.69176   0.66408   0.65973   0.64574   0.89639   0.85476\n",
      " 0.62091   0.79057   0.58935   0.56846   0.65912   0.70938   0.59154\n",
      " 0.45829   0.79982   0.60974   0.68127   0.76694   0.69048   0.68122\n",
      " 0.73229   0.76145   0.58985   0.73145   0.77029   0.73156   0.44556\n",
      " 0.85275   0.51912  ]\n",
      "features[:,1] = [-0.063669  0.29139   0.17878   0.4217    0.35256   0.10802   0.33223\n",
      "  0.31245   0.42984   0.24986   0.13658   0.33595   0.42624   0.40426\n",
      "  0.45117   0.20118   0.21445   0.24306   0.44438   0.39217   0.40271\n",
      "  0.50702   0.45384   0.32053   0.37307   0.69648   0.57341   0.27759\n",
      "  0.055964  0.28637   0.36879   0.035148  0.55169   0.56991   0.34596\n",
      "  0.28641   0.46538   0.4622    0.32774   0.26071   0.38809   0.63911\n",
      "  0.12007   0.61666   0.060408  0.2168    0.43769   0.52142   0.21264\n",
      "  0.31902   1.        0.59205   0.6612    0.86605   0.48301   0.76815\n",
      "  0.8107    0.77975   0.58177   0.7668    0.54226   0.74233   0.60921\n",
      "  0.72519   0.56789   0.76022   0.61857   0.56224   0.35025   0.76921\n",
      "  0.96764   0.60865   0.92075   0.66666   0.56845   0.7085    0.63167\n",
      "  0.80424   0.56108   0.71582   0.7406    0.71548   0.74041   0.62927\n",
      "  0.4641    0.74847   0.54757   0.86985   0.64736   0.83058   0.96541\n",
      "  0.64245   0.60138   0.86955   0.74516   0.7014    0.71782   0.57991\n",
      "  0.85987   0.62359 ]\n",
      "y = 1\n",
      "targets = [1 1 1 1 1 1 1 1 1 1 1 1 1 1 1 1 1 1 1 1 1 1 1 1 1 1 1 1 1 1 1 1 1 1 1 1 1\n",
      " 1 1 1 1 1 1 1 1 1 1 1 1 1 0 0 0 0 0 0 0 0 0 0 0 0 0 0 0 0 0 0 0 0 0 0 0 0\n",
      " 0 0 0 0 0 0 0 0 0 0 0 0 0 0 0 0 0 0 0 0 0 0 0 0 0 0]\n",
      "output_formulas input is ()\n"
     ]
    },
    {
     "ename": "TypeError",
     "evalue": "'numpy.float64' object is not iterable",
     "output_type": "error",
     "traceback": [
      "\u001b[0;31m---------------------------------------------------------------------------\u001b[0m",
      "\u001b[0;31mTypeError\u001b[0m                                 Traceback (most recent call last)",
      "\u001b[0;32m<ipython-input-147-90005167daac>\u001b[0m in \u001b[0;36m<module>\u001b[0;34m\u001b[0m\n\u001b[0;32m----> 1\u001b[0;31m \u001b[0mtrain\u001b[0m\u001b[0;34m(\u001b[0m\u001b[0mX\u001b[0m\u001b[0;34m,\u001b[0m \u001b[0my\u001b[0m\u001b[0;34m,\u001b[0m \u001b[0mepochs\u001b[0m\u001b[0;34m,\u001b[0m \u001b[0mlearnrate\u001b[0m\u001b[0;34m,\u001b[0m \u001b[0;32mTrue\u001b[0m\u001b[0;34m)\u001b[0m\u001b[0;34m\u001b[0m\u001b[0;34m\u001b[0m\u001b[0m\n\u001b[0m",
      "\u001b[0;32m<ipython-input-146-2d38dc8b15dc>\u001b[0m in \u001b[0;36mtrain\u001b[0;34m(features, targets, epochs, learnrate, graph_lines)\u001b[0m\n\u001b[1;32m     30\u001b[0m \u001b[0;34m\u001b[0m\u001b[0m\n\u001b[1;32m     31\u001b[0m             \u001b[0moutput\u001b[0m \u001b[0;34m=\u001b[0m \u001b[0moutput_formula\u001b[0m\u001b[0;34m(\u001b[0m\u001b[0mx\u001b[0m\u001b[0;34m,\u001b[0m \u001b[0mweights\u001b[0m\u001b[0;34m,\u001b[0m \u001b[0mbias\u001b[0m\u001b[0;34m)\u001b[0m\u001b[0;34m\u001b[0m\u001b[0;34m\u001b[0m\u001b[0m\n\u001b[0;32m---> 32\u001b[0;31m             \u001b[0merror\u001b[0m \u001b[0;34m=\u001b[0m \u001b[0merror_formula\u001b[0m\u001b[0;34m(\u001b[0m\u001b[0my\u001b[0m\u001b[0;34m,\u001b[0m \u001b[0moutput\u001b[0m\u001b[0;34m)\u001b[0m\u001b[0;34m\u001b[0m\u001b[0;34m\u001b[0m\u001b[0m\n\u001b[0m\u001b[1;32m     33\u001b[0m             \u001b[0mweights\u001b[0m\u001b[0;34m,\u001b[0m \u001b[0mbias\u001b[0m \u001b[0;34m=\u001b[0m \u001b[0mupdate_weights\u001b[0m\u001b[0;34m(\u001b[0m\u001b[0mx\u001b[0m\u001b[0;34m,\u001b[0m \u001b[0my\u001b[0m\u001b[0;34m,\u001b[0m \u001b[0mweights\u001b[0m\u001b[0;34m,\u001b[0m \u001b[0mbias\u001b[0m\u001b[0;34m,\u001b[0m \u001b[0mlearnrate\u001b[0m\u001b[0;34m)\u001b[0m\u001b[0;34m\u001b[0m\u001b[0;34m\u001b[0m\u001b[0m\n\u001b[1;32m     34\u001b[0m \u001b[0;34m\u001b[0m\u001b[0m\n",
      "\u001b[0;32m<ipython-input-145-7be2b554e4b4>\u001b[0m in \u001b[0;36merror_formula\u001b[0;34m(y, output)\u001b[0m\n\u001b[1;32m     20\u001b[0m \u001b[0;32mdef\u001b[0m \u001b[0merror_formula\u001b[0m\u001b[0;34m(\u001b[0m\u001b[0my\u001b[0m\u001b[0;34m,\u001b[0m \u001b[0moutput\u001b[0m\u001b[0;34m)\u001b[0m\u001b[0;34m:\u001b[0m\u001b[0;34m\u001b[0m\u001b[0;34m\u001b[0m\u001b[0m\n\u001b[1;32m     21\u001b[0m \u001b[0;31m#   𝐸𝑟𝑟𝑜𝑟(𝑦,y_hat )=−𝑦log(y_hat )−(1−𝑦)log(1−y_hat )\u001b[0m\u001b[0;34m\u001b[0m\u001b[0;34m\u001b[0m\u001b[0;34m\u001b[0m\u001b[0m\n\u001b[0;32m---> 22\u001b[0;31m     \u001b[0manswer\u001b[0m \u001b[0;34m=\u001b[0m \u001b[0;34m-\u001b[0m \u001b[0msum\u001b[0m\u001b[0;34m(\u001b[0m \u001b[0my\u001b[0m \u001b[0;34m*\u001b[0m \u001b[0mnp\u001b[0m\u001b[0;34m.\u001b[0m\u001b[0mlog\u001b[0m\u001b[0;34m(\u001b[0m\u001b[0moutput\u001b[0m\u001b[0;34m)\u001b[0m \u001b[0;34m+\u001b[0m \u001b[0;34m(\u001b[0m\u001b[0;36m1\u001b[0m\u001b[0;34m-\u001b[0m\u001b[0my\u001b[0m\u001b[0;34m)\u001b[0m \u001b[0;34m*\u001b[0m \u001b[0mnp\u001b[0m\u001b[0;34m.\u001b[0m\u001b[0mlog\u001b[0m\u001b[0;34m(\u001b[0m\u001b[0;36m1\u001b[0m \u001b[0;34m-\u001b[0m \u001b[0moutput\u001b[0m\u001b[0;34m)\u001b[0m \u001b[0;34m)\u001b[0m\u001b[0;34m\u001b[0m\u001b[0;34m\u001b[0m\u001b[0m\n\u001b[0m\u001b[1;32m     23\u001b[0m     \u001b[0;32mreturn\u001b[0m \u001b[0manswer\u001b[0m\u001b[0;34m\u001b[0m\u001b[0;34m\u001b[0m\u001b[0m\n\u001b[1;32m     24\u001b[0m     \u001b[0;32mpass\u001b[0m\u001b[0;34m\u001b[0m\u001b[0;34m\u001b[0m\u001b[0m\n",
      "\u001b[0;31mTypeError\u001b[0m: 'numpy.float64' object is not iterable"
     ]
    }
   ],
   "source": [
    "train(X, y, epochs, learnrate, True)"
   ]
  },
  {
   "cell_type": "code",
   "execution_count": 136,
   "metadata": {},
   "outputs": [
    {
     "data": {
      "text/plain": [
       "0"
      ]
     },
     "execution_count": 136,
     "metadata": {},
     "output_type": "execute_result"
    }
   ],
   "source": [
    "y"
   ]
  },
  {
   "cell_type": "code",
   "execution_count": null,
   "metadata": {
    "collapsed": true
   },
   "outputs": [],
   "source": []
  }
 ],
 "metadata": {
  "kernelspec": {
   "display_name": "Python 3",
   "language": "python",
   "name": "python3"
  },
  "language_info": {
   "codemirror_mode": {
    "name": "ipython",
    "version": 3
   },
   "file_extension": ".py",
   "mimetype": "text/x-python",
   "name": "python",
   "nbconvert_exporter": "python",
   "pygments_lexer": "ipython3",
   "version": "3.7.6"
  },
  "varInspector": {
   "cols": {
    "lenName": 16,
    "lenType": 16,
    "lenVar": 40
   },
   "kernels_config": {
    "python": {
     "delete_cmd_postfix": "",
     "delete_cmd_prefix": "del ",
     "library": "var_list.py",
     "varRefreshCmd": "print(var_dic_list())"
    },
    "r": {
     "delete_cmd_postfix": ") ",
     "delete_cmd_prefix": "rm(",
     "library": "var_list.r",
     "varRefreshCmd": "cat(var_dic_list()) "
    }
   },
   "types_to_exclude": [
    "module",
    "function",
    "builtin_function_or_method",
    "instance",
    "_Feature"
   ],
   "window_display": true
  }
 },
 "nbformat": 4,
 "nbformat_minor": 2
}
